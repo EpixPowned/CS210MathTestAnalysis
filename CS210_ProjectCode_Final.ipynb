{
 "cells": [
  {
   "cell_type": "markdown",
   "id": "88bb9a7d",
   "metadata": {},
   "source": [
    "Before you turn this problem in, make sure everything runs as expected. First, **restart the kernel** (in the menubar, select Kernel $\\rightarrow$ Restart) and then **run all cells** (in the menubar, select Cell $\\rightarrow$ Run All).\n",
    "\n",
    "Make sure you fill in any place that says `YOUR CODE HERE` or \"YOUR ANSWER HERE\", as well as your name and collaborators below:"
   ]
  },
  {
   "cell_type": "code",
   "execution_count": 1,
   "id": "b2ca2d6f",
   "metadata": {},
   "outputs": [],
   "source": [
    "NAME = \"Devon Botney\"\n",
    "COLLABORATORS = \"Paul Cantave\""
   ]
  },
  {
   "cell_type": "markdown",
   "id": "d49f1254",
   "metadata": {},
   "source": [
    "---"
   ]
  },
  {
   "cell_type": "code",
   "execution_count": 1,
   "id": "5e851d42-b969-416c-a3d5-70d791e84548",
   "metadata": {},
   "outputs": [],
   "source": [
    "#First the encoded data needs to be correctly turned into a sorted CSV (currently one column)\n",
    "import pandas as pd\n",
    "import numpy as np\n",
    "import csv\n",
    "from sklearn.model_selection import train_test_split\n",
    "from sklearn.ensemble import RandomForestClassifier\n",
    "from sklearn.preprocessing import LabelEncoder\n",
    "from sklearn.metrics import accuracy_score"
   ]
  },
  {
   "cell_type": "code",
   "execution_count": 2,
   "id": "92053ece-62a1-45ae-878b-467feecce7ca",
   "metadata": {},
   "outputs": [
    {
     "name": "stdout",
     "output_type": "stream",
     "text": [
      "Filtered\n"
     ]
    }
   ],
   "source": [
    "#To get rid of studentID, Country, Question ID, and Keywords\n",
    "input = \"raw_data.csv\"\n",
    "output = \"simple_data.csv\"\n",
    "columns = ['Type_of_Answer', 'Question_Level', 'Topic', 'Subtopic']\n",
    "with open(input, 'r', encoding='utf-8') as infile, open(output, 'w', encoding='utf-8', newline='') as outfile:\n",
    "    reader = csv.DictReader(infile, delimiter=';')\n",
    "    writer = csv.DictWriter(outfile, fieldnames=columns, delimiter=';')\n",
    "    writer.writeheader()\n",
    "    for row in reader:\n",
    "        filtered = {key: row[key] for key in columns if key in row}\n",
    "        writer.writerow(filtered)\n",
    "print(f\"Filtered\")"
   ]
  },
  {
   "cell_type": "code",
   "execution_count": 3,
   "id": "f80159b5-7ff6-4275-a127-2b8f0ad8fbc5",
   "metadata": {},
   "outputs": [
    {
     "name": "stdout",
     "output_type": "stream",
     "text": [
      "Finished\n"
     ]
    }
   ],
   "source": [
    "#Creation of a file that shows the different Topic/Subtopic pairs\n",
    "input = \"simple_data.csv\"\n",
    "output = \"topics.csv\"\n",
    "\n",
    "topic_col = 'Topic'\n",
    "sub_col = 'Subtopic'\n",
    "\n",
    "unique = set()\n",
    "\n",
    "with open(input, 'r', encoding='utf-8') as infile:\n",
    "    reader = csv.DictReader(infile, delimiter=';')\n",
    "    for row in reader:\n",
    "        topic = row.get(topic_col)\n",
    "        sub = row.get(sub_col)\n",
    "        if topic and sub:\n",
    "            unique.add((topic, sub))\n",
    "with open(output, 'w', encoding='utf-8', newline='') as outfile:\n",
    "    writer = csv.writer(outfile, delimiter=';')\n",
    "    writer.writerow([topic_col, sub_col])\n",
    "    writer.writerows(sorted(unique))\n",
    "print(f\"Finished\")"
   ]
  },
  {
   "cell_type": "code",
   "execution_count": 5,
   "id": "ff5cf0b2-d58c-4c34-9521-3c4c26ab6216",
   "metadata": {},
   "outputs": [
    {
     "name": "stdout",
     "output_type": "stream",
     "text": [
      "Model Accuracy: 0.55\n"
     ]
    }
   ],
   "source": [
    "import pandas as pd\n",
    "from sklearn.model_selection import train_test_split, GridSearchCV\n",
    "from sklearn.ensemble import RandomForestClassifier\n",
    "from sklearn.preprocessing import OneHotEncoder\n",
    "from sklearn.compose import ColumnTransformer\n",
    "from sklearn.pipeline import Pipeline\n",
    "from sklearn.metrics import accuracy_score\n",
    "\n",
    "file = \"simple_data.csv\"\n",
    "data = pd.read_csv(file, delimiter=';')\n",
    "\n",
    "label_encoders = {}\n",
    "for column in ['Question_Level', 'Topic', 'Subtopic']:\n",
    "    label = LabelEncoder()\n",
    "    data[column] = label.fit_transform(data[column])\n",
    "    label_encoders[column] = label\n",
    "\n",
    "x = data[['Question_Level', 'Topic', 'Subtopic']]\n",
    "y = data['Type_of_Answer']\n",
    "\n",
    "#Train with seed 42\n",
    "x_train, x_test, y_train, y_test = train_test_split(x, y, test_size=0.5, random_state=42)\n",
    "model = RandomForestClassifier(random_state=42)\n",
    "model.fit(x_train, y_train)\n",
    "\n",
    "y_pred = model.predict(x_test)\n",
    "accuracy = accuracy_score(y_test, y_pred)\n",
    "print(f\"Model Accuracy: {accuracy:.2f}\")"
   ]
  },
  {
   "cell_type": "code",
   "execution_count": 6,
   "id": "9e2109ef-490a-4149-92db-ba5c1ba49cfb",
   "metadata": {},
   "outputs": [
    {
     "name": "stdout",
     "output_type": "stream",
     "text": [
      "Connection was successful.\n"
     ]
    }
   ],
   "source": [
    "import sqlite3\n",
    "conn = sqlite3.connect('mathvalues.db')\n",
    "print(f\"Connection was successful.\")"
   ]
  },
  {
   "cell_type": "code",
   "execution_count": 7,
   "id": "9c802a1c-69a3-40d5-890c-2173fd82fe5a",
   "metadata": {},
   "outputs": [
    {
     "name": "stdout",
     "output_type": "stream",
     "text": [
      "('Analytic Geometry', 48.88268156424581)\n",
      "('Complex Numbers', 45.439189189189186)\n",
      "('Differential Equations', 53.7037037037037)\n",
      "('Differentiation', 34.196891191709845)\n",
      "('Fundamental Mathematics', 46.577017114914426)\n",
      "('Graph Theory', 58.18181818181818)\n",
      "('Integration', 44.44444444444444)\n",
      "('Linear Algebra', 49.02200488997555)\n",
      "('Numerical Methods', 38.70967741935484)\n",
      "('Optimization', 38.46153846153846)\n",
      "('Probability ', 37.5)\n",
      "('Real Functions of a single variable', 35.36585365853659)\n",
      "('Set Theory', 64.28571428571429)\n",
      "('Statistics', 47.94117647058823)\n"
     ]
    }
   ],
   "source": [
    "import pandas as pd\n",
    "from sqlalchemy import create_engine\n",
    "from sqlalchemy import text\n",
    "\n",
    "\n",
    "file_path = 'simple_data.csv'\n",
    "df = pd.read_csv(file_path, delimiter=';')\n",
    "\n",
    "\n",
    "engine = create_engine('sqlite:///mathvalues.db') \n",
    "\n",
    "\n",
    "table_name = 'math_tables'\n",
    "df.to_sql(table_name, con=engine, if_exists='replace', index=False)\n",
    "\n",
    "with engine.connect() as conn:\n",
    "    result = conn.execute(text(\"SELECT Topic, 100.0 * SUM(CASE WHEN Type_of_Answer = 1 THEN 1 ELSE 0 END) / COUNT(*) AS percentage FROM math_tables GROUP BY Topic;\"))\n",
    "    for row in result:\n",
    "        print(row)"
   ]
  },
  {
   "cell_type": "code",
   "execution_count": 8,
   "id": "9a513321-e426-41d2-9baf-872bf70a9094",
   "metadata": {},
   "outputs": [
    {
     "name": "stdout",
     "output_type": "stream",
     "text": [
      "('Analytic Geometry', 51.298701298701296)\n",
      "('Complex Numbers', 35.97560975609756)\n",
      "('Differential Equations', 53.77358490566038)\n",
      "('Differentiation', 33.03249097472924)\n",
      "('Fundamental Mathematics', 46.35761589403973)\n",
      "('Graph Theory', 48.57142857142857)\n",
      "('Integration', 45.6)\n",
      "('Linear Algebra', 48.83208461877479)\n",
      "('Numerical Methods', 38.70967741935484)\n",
      "('Optimization', 39.77272727272727)\n",
      "('Probability ', 35.23809523809524)\n",
      "('Real Functions of a single variable', 36.0655737704918)\n",
      "('Set Theory', 64.28571428571429)\n",
      "('Statistics', 47.94117647058823)\n",
      "-----------------------\n",
      "('Analytic Geometry', 34.0)\n",
      "('Complex Numbers', 57.196969696969695)\n",
      "('Differential Equations', 50.0)\n",
      "('Differentiation', 60.0)\n",
      "('Fundamental Mathematics', 49.20634920634921)\n",
      "('Graph Theory', 75.0)\n",
      "('Integration', 36.8421052631579)\n",
      "('Linear Algebra', 49.74747474747475)\n",
      "('Numerical Methods', None)\n",
      "('Optimization', 0.0)\n",
      "('Probability ', 47.82608695652174)\n",
      "('Real Functions of a single variable', 33.333333333333336)\n",
      "('Set Theory', None)\n",
      "('Statistics', None)\n",
      "-----------------------\n",
      "('Analytic Geometry', 50)\n",
      "('Complex Numbers', 264)\n",
      "('Differential Equations', 2)\n",
      "('Differentiation', 25)\n",
      "('Fundamental Mathematics', 63)\n",
      "('Graph Theory', 20)\n",
      "('Integration', 19)\n",
      "('Linear Algebra', 1188)\n",
      "('Numerical Methods', 0)\n",
      "('Optimization', 6)\n",
      "('Probability ', 23)\n",
      "('Real Functions of a single variable', 42)\n",
      "('Set Theory', 0)\n",
      "('Statistics', 0)\n"
     ]
    }
   ],
   "source": [
    "import pandas as pd\n",
    "from sqlalchemy import create_engine\n",
    "from sqlalchemy import text\n",
    "\n",
    "\n",
    "file_path = 'simple_data.csv'\n",
    "df = pd.read_csv(file_path, delimiter=';')\n",
    "\n",
    "\n",
    "engine = create_engine('sqlite:///mathvalues.db') \n",
    "\n",
    "\n",
    "table_name = 'math_tables'\n",
    "df.to_sql(table_name, con=engine, if_exists='replace', index=False)\n",
    "\n",
    "with engine.connect() as conn:\n",
    "    result = conn.execute(text(\"SELECT Topic, 100.0 * SUM(CASE WHEN Type_of_Answer = 1 AND Question_Level = 'Basic' THEN 1 ELSE 0 END) / COUNT(CASE WHEN Question_Level = 'Basic' THEN 1 ELSE NULL END) AS percentage FROM math_tables GROUP BY Topic;\"))\n",
    "    for row in result:\n",
    "        print(row)\n",
    "    print(\"-----------------------\")\n",
    "    result2 = conn.execute(text(\"SELECT Topic, 100.0 * SUM(CASE WHEN Type_of_Answer = 1 AND Question_Level = 'Advanced' THEN 1 ELSE 0 END) / COUNT(CASE WHEN Question_Level = 'Advanced' THEN 1 ELSE NULL END) AS percentage FROM math_tables GROUP BY Topic;\"))\n",
    "    for row in result2:\n",
    "        print(row)\n",
    "    print(\"-----------------------\")\n",
    "    result3 = conn.execute(text(\"SELECT Topic, SUM(CASE WHEN Question_Level = 'Advanced' THEN 1 ELSE 0 END) AS Advanced_Questions FROM math_tables GROUP BY Topic;\"))\n",
    "    for row in result3:\n",
    "        print(row)\n",
    "    \n",
    "        "
   ]
  },
  {
   "cell_type": "code",
   "execution_count": null,
   "id": "3fecfb87-251a-43d7-9df8-d6934d52556a",
   "metadata": {},
   "outputs": [],
   "source": []
  }
 ],
 "metadata": {
  "kernelspec": {
   "display_name": "Python 3 (ipykernel)",
   "language": "python",
   "name": "python3"
  },
  "language_info": {
   "codemirror_mode": {
    "name": "ipython",
    "version": 3
   },
   "file_extension": ".py",
   "mimetype": "text/x-python",
   "name": "python",
   "nbconvert_exporter": "python",
   "pygments_lexer": "ipython3",
   "version": "3.12.2"
  }
 },
 "nbformat": 4,
 "nbformat_minor": 5
}
